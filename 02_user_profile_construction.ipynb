{
 "cells": [
  {
   "cell_type": "code",
   "execution_count": 5,
   "id": "c5ab0aa5-fc5a-47da-a09f-db17661ee97f",
   "metadata": {},
   "outputs": [],
   "source": [
    "# 1. Imports\n",
    "import pandas as pd\n",
    "import pickle\n",
    "from sklearn.feature_extraction.text import TfidfVectorizer\n",
    "from scipy.sparse import vstack\n"
   ]
  },
  {
   "cell_type": "code",
   "execution_count": 23,
   "id": "28f672a0-643c-4b5d-927c-e8a37d773562",
   "metadata": {},
   "outputs": [],
   "source": [
    "# Load Preprocessed Data and TF-IDF Matrix\n",
    "df = pd.read_csv('../data/cleaned_news.csv')\n",
    "\n",
    "with open('../data/tfidf_matrix.pkl', 'rb') as f:\n",
    "    tfidf_matrix = pickle.load(f)\n",
    "\n",
    "with open('../data/vectorizer.pkl', 'rb') as f:\n",
    "    vectorizer = pickle.load(f)\n",
    "\n"
   ]
  },
  {
   "cell_type": "code",
   "execution_count": 25,
   "id": "019d4cba-a09b-4051-8d9d-5ccfdd29d658",
   "metadata": {},
   "outputs": [
    {
     "name": "stdout",
     "output_type": "stream",
     "text": [
      "Available Categories:\n",
      "lifestyle, health, news, sports, weather, entertainment, autos, travel, foodanddrink, tv, finance, movies, video, music, kids, middleeast, northamerica\n"
     ]
    },
    {
     "name": "stdin",
     "output_type": "stream",
     "text": [
      "Enter your preferred categories, separated by commas:  health,news,sports\n"
     ]
    },
    {
     "name": "stdout",
     "output_type": "stream",
     "text": [
      "\n",
      "Selected categories: ['health', 'news', 'sports']\n",
      "Number of matched articles: 30268\n"
     ]
    },
    {
     "data": {
      "text/html": [
       "<div>\n",
       "<style scoped>\n",
       "    .dataframe tbody tr th:only-of-type {\n",
       "        vertical-align: middle;\n",
       "    }\n",
       "\n",
       "    .dataframe tbody tr th {\n",
       "        vertical-align: top;\n",
       "    }\n",
       "\n",
       "    .dataframe thead th {\n",
       "        text-align: right;\n",
       "    }\n",
       "</style>\n",
       "<table border=\"1\" class=\"dataframe\">\n",
       "  <thead>\n",
       "    <tr style=\"text-align: right;\">\n",
       "      <th></th>\n",
       "      <th>Title</th>\n",
       "      <th>Category</th>\n",
       "    </tr>\n",
       "  </thead>\n",
       "  <tbody>\n",
       "    <tr>\n",
       "      <th>1</th>\n",
       "      <td>50 Worst Habits For Belly Fat</td>\n",
       "      <td>health</td>\n",
       "    </tr>\n",
       "    <tr>\n",
       "      <th>2</th>\n",
       "      <td>The Cost of Trump's Aid Freeze in the Trenches...</td>\n",
       "      <td>news</td>\n",
       "    </tr>\n",
       "    <tr>\n",
       "      <th>3</th>\n",
       "      <td>I Was An NBA Wife. Here's How It Affected My M...</td>\n",
       "      <td>health</td>\n",
       "    </tr>\n",
       "    <tr>\n",
       "      <th>4</th>\n",
       "      <td>How to Get Rid of Skin Tags, According to a De...</td>\n",
       "      <td>health</td>\n",
       "    </tr>\n",
       "    <tr>\n",
       "      <th>5</th>\n",
       "      <td>Should NFL be able to fine players for critici...</td>\n",
       "      <td>sports</td>\n",
       "    </tr>\n",
       "  </tbody>\n",
       "</table>\n",
       "</div>"
      ],
      "text/plain": [
       "                                               Title Category\n",
       "1                      50 Worst Habits For Belly Fat   health\n",
       "2  The Cost of Trump's Aid Freeze in the Trenches...     news\n",
       "3  I Was An NBA Wife. Here's How It Affected My M...   health\n",
       "4  How to Get Rid of Skin Tags, According to a De...   health\n",
       "5  Should NFL be able to fine players for critici...   sports"
      ]
     },
     "metadata": {},
     "output_type": "display_data"
    }
   ],
   "source": [
    "# Show available categories\n",
    "available_categories = df['Category'].dropna().unique().tolist()\n",
    "print(\"Available Categories:\")\n",
    "print(\", \".join(available_categories))\n",
    "\n",
    "# Step 2: Get user input\n",
    "user_input = input(\"Enter your preferred categories, separated by commas: \")\n",
    "selected_categories = [cat.strip() for cat in user_input.split(',') if cat.strip() in available_categories]\n",
    "\n",
    "if not selected_categories:\n",
    "    print(\"No valid categories selected. Using default fallback (empty user profile).\")\n",
    "    matched_indices = []\n",
    "else:\n",
    "    # Step 3: Filter articles that match selected categories\n",
    "    matched_indices = df[df['Category'].isin(selected_categories)].index.tolist()\n",
    "    print(f\"\\nSelected categories: {selected_categories}\")\n",
    "    print(f\"Number of matched articles: {len(matched_indices)}\")\n",
    "    display(df.iloc[matched_indices][['Title', 'Category']].head())\n"
   ]
  },
  {
   "cell_type": "code",
   "execution_count": 27,
   "id": "49e76c11-5615-4879-a67d-c32ce13152ee",
   "metadata": {},
   "outputs": [],
   "source": [
    "# Build User Profile Vector\n",
    "# Average the TF-IDF vectors of the selected articles\n",
    "from scipy.sparse import csr_matrix\n",
    "\n",
    "if matched_indices:\n",
    "    user_profile = tfidf_matrix[matched_indices].mean(axis=0)\n",
    "else:\n",
    "    user_profile = csr_matrix((1, tfidf_matrix.shape[1]))  \n"
   ]
  },
  {
   "cell_type": "code",
   "execution_count": 29,
   "id": "a9e1fb6d-5959-41da-b12e-3b86cbfce9ba",
   "metadata": {},
   "outputs": [],
   "source": [
    "# 5. Save the User Profile\n",
    "with open('../data/user_profile.pkl', 'wb') as f:\n",
    "    pickle.dump(user_profile, f)\n"
   ]
  },
  {
   "cell_type": "code",
   "execution_count": 31,
   "id": "f050e5dd-ccd1-4fb8-aba1-bf0840df5d84",
   "metadata": {},
   "outputs": [
    {
     "data": {
      "text/plain": [
       "matrix([[0.0011177 , 0.00035044, 0.00049104, ..., 0.00044066, 0.00036674,\n",
       "         0.00035199]])"
      ]
     },
     "execution_count": 31,
     "metadata": {},
     "output_type": "execute_result"
    }
   ],
   "source": [
    "dff = pd.read_pickle('../data/user_profile.pkl')\n",
    "dff"
   ]
  },
  {
   "cell_type": "code",
   "execution_count": null,
   "id": "7395c12c-faad-4a89-9595-d876ae83b928",
   "metadata": {},
   "outputs": [],
   "source": []
  }
 ],
 "metadata": {
  "kernelspec": {
   "display_name": "Python [conda env:base] *",
   "language": "python",
   "name": "conda-base-py"
  },
  "language_info": {
   "codemirror_mode": {
    "name": "ipython",
    "version": 3
   },
   "file_extension": ".py",
   "mimetype": "text/x-python",
   "name": "python",
   "nbconvert_exporter": "python",
   "pygments_lexer": "ipython3",
   "version": "3.12.7"
  }
 },
 "nbformat": 4,
 "nbformat_minor": 5
}
