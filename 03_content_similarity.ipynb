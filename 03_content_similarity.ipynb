{
 "cells": [
  {
   "cell_type": "code",
   "execution_count": 3,
   "id": "7e52b8ec-7e5e-416a-b686-2bccbde06036",
   "metadata": {},
   "outputs": [
    {
     "name": "stdout",
     "output_type": "stream",
     "text": [
      "Type of user_profile: <class 'numpy.matrix'>\n",
      "Type of tfidf_matrix: <class 'scipy.sparse._csr.csr_matrix'>\n",
      "Shape of user_profile: (1, 5000)\n",
      "Shape of tfidf_matrix: (48616, 5000)\n",
      "Shape of user_profile after conversion: (1, 5000)\n",
      "Type of user_profile after conversion: <class 'numpy.ndarray'>\n"
     ]
    }
   ],
   "source": [
    "import numpy as np\n",
    "import pandas as pd\n",
    "import pickle\n",
    "from sklearn.metrics.pairwise import cosine_similarity\n",
    "from scipy.sparse import csr_matrix\n",
    "\n",
    "# Load cleaned data\n",
    "df = pd.read_csv('../data/cleaned_news.csv')\n",
    "\n",
    "# Load TF-IDF matrix\n",
    "with open('../data/tfidf_matrix.pkl', 'rb') as f:\n",
    "    tfidf_matrix = pickle.load(f)\n",
    "\n",
    "# Load user profile\n",
    "with open('../data/user_profile.pkl', 'rb') as f:\n",
    "    user_profile = pickle.load(f)\n",
    "\n",
    "# Debug: Check types and shapes\n",
    "print(\"Type of user_profile:\", type(user_profile))\n",
    "print(\"Type of tfidf_matrix:\", type(tfidf_matrix))\n",
    "print(\"Shape of user_profile:\", user_profile.shape if hasattr(user_profile, 'shape') else \"No shape (not an array)\")\n",
    "print(\"Shape of tfidf_matrix:\", tfidf_matrix.shape)\n",
    "\n",
    "# Convert user_profile from np.matrix to NumPy array\n",
    "user_profile = np.asarray(user_profile)  \n",
    "\n",
    "# Verify shapes\n",
    "print(\"Shape of user_profile after conversion:\", user_profile.shape)\n",
    "print(\"Type of user_profile after conversion:\", type(user_profile))\n",
    "\n",
    "# Ensure tfidf_matrix is a sparse matrix (no conversion needed)\n",
    "if not isinstance(tfidf_matrix, csr_matrix):\n",
    "    tfidf_matrix = csr_matrix(tfidf_matrix)\n",
    "\n",
    "# Verify feature compatibility\n",
    "if user_profile.shape[1] != tfidf_matrix.shape[1]:\n",
    "    raise ValueError(f\"Feature dimension mismatch: user_profile has {user_profile.shape[1]} features, tfidf_matrix has {tfidf_matrix.shape[1]} features.\")\n",
    "\n",
    "# Compute cosine similarity\n",
    "similarity_scores = cosine_similarity(user_profile, tfidf_matrix).flatten()\n",
    "\n",
    "# Add similarity scores to DataFrame\n",
    "df['similarity'] = similarity_scores\n",
    "\n",
    "# Save results\n",
    "df.sort_values(by='similarity', ascending=False).to_csv('../results/similarity_scores.csv', index=False)\n"
   ]
  },
  {
   "cell_type": "code",
   "execution_count": null,
   "id": "eadf262e-37f2-4215-9454-02cf54378280",
   "metadata": {},
   "outputs": [],
   "source": []
  }
 ],
 "metadata": {
  "kernelspec": {
   "display_name": "Python [conda env:base] *",
   "language": "python",
   "name": "conda-base-py"
  },
  "language_info": {
   "codemirror_mode": {
    "name": "ipython",
    "version": 3
   },
   "file_extension": ".py",
   "mimetype": "text/x-python",
   "name": "python",
   "nbconvert_exporter": "python",
   "pygments_lexer": "ipython3",
   "version": "3.12.7"
  }
 },
 "nbformat": 4,
 "nbformat_minor": 5
}
